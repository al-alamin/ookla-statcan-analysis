{
 "cells": [
  {
   "cell_type": "code",
   "execution_count": null,
   "metadata": {},
   "outputs": [],
   "source": [
    "import sys\n",
    "sys.path.append(\"..\")\n",
    "\n",
    "%load_ext autoreload\n",
    "%autoreload 1\n",
    "%aimport src.datasets.joins\n",
    "%aimport src.datasets.loading.statcan"
   ]
  },
  {
   "cell_type": "code",
   "execution_count": null,
   "metadata": {},
   "outputs": [],
   "source": [
    "import numpy as np\n",
    "import pandas as pd\n",
    "import matplotlib.pyplot as plt \n",
    "from src.datasets.loading import statcan\n",
    "from src.datasets.loading import ookla\n",
    "from src.datasets import overlays\n",
    "\n",
    "import statsmodels as sm\n",
    "# import statsmodels.stats.weightstats\n",
    "from scipy.stats import lognorm"
   ]
  },
  {
   "cell_type": "code",
   "execution_count": null,
   "metadata": {},
   "outputs": [],
   "source": [
    "from src.datasets import joins"
   ]
  },
  {
   "cell_type": "code",
   "execution_count": null,
   "metadata": {},
   "outputs": [],
   "source": [
    "popctrs = statcan.boundary('population_centres')"
   ]
  },
  {
   "cell_type": "code",
   "execution_count": null,
   "metadata": {},
   "outputs": [],
   "source": [
    "o = joins.hexagons_popctrs_overlay()"
   ]
  },
  {
   "cell_type": "code",
   "execution_count": null,
   "metadata": {},
   "outputs": [],
   "source": [
    "tiles = ookla.canada_speed_tiles().loc[lambda s:(s.year==2022 ) & (s.conn_type=='fixed')]\n",
    "tiles = tiles.to_crs(popctrs.crs)"
   ]
  },
  {
   "cell_type": "code",
   "execution_count": null,
   "metadata": {},
   "outputs": [],
   "source": [
    "o_statted = joins.add_simple_stats(o, tiles, 'HEXUID_PCPUID')\n",
    "o_statted = joins.add_50_10_stats(o_statted, tiles, 'HEXUID_PCPUID')\n",
    "o_statted = o_statted.merge(statcan.hexagon_data(), on='HEXuid_HEXidu', how='left')"
   ]
  },
  {
   "cell_type": "code",
   "execution_count": null,
   "metadata": {},
   "outputs": [],
   "source": [
    "def breakpoint(value):\n",
    "    if value == '>75% -  100%':\n",
    "        return 0.75\n",
    "    elif value == '>50% - 75%':\n",
    "        return 0.5\n",
    "    elif value == '>25% - 50%':\n",
    "        return 0.25\n",
    "    elif value == '>0% - 25%':\n",
    "        return 0.0\n",
    "    else:\n",
    "        return 0.0\n",
    "\n",
    "o_statted['access_level_numerical'] = o_statted.Avail_50_10_Gradient_Dispo.apply(breakpoint)"
   ]
  },
  {
   "cell_type": "code",
   "execution_count": null,
   "metadata": {},
   "outputs": [],
   "source": [
    "for col in o_statted:\n",
    "    if \"kbps\" in col:\n",
    "        o_statted[col] /= 1000\n",
    "        o_statted.rename(columns={col:col.replace('kbps','Mbps')}, inplace=True)"
   ]
  },
  {
   "cell_type": "code",
   "execution_count": null,
   "metadata": {},
   "outputs": [],
   "source": [
    "def calculate_50_10_level(p50down, p10up):\n",
    "    p = min(p50down, p10up)\n",
    "\n",
    "    if p== 0:\n",
    "        return '0% - Unavailable'\n",
    "    elif p < 25:\n",
    "        return '0%-25%'\n",
    "    elif p < 5:\n",
    "        return '25%-50%'\n",
    "    elif p < 75:\n",
    "        return '50%-75%'\n",
    "    elif p < 100:\n",
    "        return  '75%-100%'\n",
    "    elif p ==100:\n",
    "        return '100%'\n",
    "    else:\n",
    "        return 'Unknown'\n",
    "    \n",
    "def ookla_numerical(v):\n",
    "    if v == '100%':\n",
    "        return 1.0\n",
    "    elif v == '75%-100%':\n",
    "        return 0.75\n",
    "    elif v == '50%-75%':\n",
    "        return 0.5\n",
    "    elif v == '25%-50%':\n",
    "        return 0.25\n",
    "    else:\n",
    "        return 0.0\n",
    "\n",
    "o_statted['Ookla_Avail_50_10'] = o_statted.apply(lambda s:calculate_50_10_level(s['50_down_percentile'],s['10_up_percentile']), axis=1)\n",
    "o_statted['Ookla_Avail_50_10_numerical'] = o_statted['Ookla_Avail_50_10'].apply(ookla_numerical)\n"
   ]
  },
  {
   "cell_type": "code",
   "execution_count": null,
   "metadata": {},
   "outputs": [],
   "source": [
    "o_statted['is_overestimated'] = o_statted['Ookla_Avail_50_10_numerical'] < o_statted['access_level_numerical']"
   ]
  },
  {
   "cell_type": "code",
   "execution_count": null,
   "metadata": {},
   "outputs": [],
   "source": [
    "xmin, ymin, xmax, ymax = popctrs.loc[lambda s:s.PCNAME==\"Calgary\"].buffer(100000).total_bounds\n",
    "o_statted.cx[xmin:xmax, ymin:ymax].loc[:,[\n",
    "    'geometry','HEXUID_PCPUID', \n",
    "    'avg_d_Mbps', 'std_d_Mbps', 'min_d_Mbps', '25p_d_Mbps', '50p_d_Mbps', '75p_d_Mbps', 'max_d_Mbps', \n",
    "    'avg_u_Mbps', 'std_u_Mbps', 'min_u_Mbps', '25p_u_Mbps', '50p_u_Mbps', '75p_u_Mbps', 'max_u_Mbps', \n",
    "    'avg_lat_ms', \n",
    "    'tests', 'ave_tests_per_tile',\n",
    "    'unique_devices', 'ave_devices_per_tile', \n",
    "    'num_tiles',\n",
    "    'SumPop_2016_SommePop', #'SumURD_2016_SommeRH', 'SumTD_2016_SommeTL',\n",
    "    'Avail_50_10_Gradient_Dispo', 'Ookla_Avail_50_10', 'is_overestimated',\n",
    "    '50_down_percentile', '10_up_percentile'\n",
    "]].explore('Ookla_Avail_50_10', cmap=['orange','green','yellow','blue','red','gray'])#, vmin=0, vmax=300)"
   ]
  }
 ],
 "metadata": {
  "kernelspec": {
   "display_name": "Python 3.10.2 ('datascience')",
   "language": "python",
   "name": "python3"
  },
  "language_info": {
   "codemirror_mode": {
    "name": "ipython",
    "version": 3
   },
   "file_extension": ".py",
   "mimetype": "text/x-python",
   "name": "python",
   "nbconvert_exporter": "python",
   "pygments_lexer": "ipython3",
   "version": "3.10.2"
  },
  "orig_nbformat": 4,
  "vscode": {
   "interpreter": {
    "hash": "7baa5682b3ee41d95f3e6c53f6f101854543f295d881c00164f5d254f1692751"
   }
  }
 },
 "nbformat": 4,
 "nbformat_minor": 2
}
